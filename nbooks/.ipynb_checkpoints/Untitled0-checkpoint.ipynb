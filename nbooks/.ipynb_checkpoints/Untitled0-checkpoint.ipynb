{
 "metadata": {
  "name": "",
  "signature": "sha256:2e28ca8298bcc7f1e8f4cf778da9d41a940d792b8ce186ba89ba0d9917954f6e"
 },
 "nbformat": 3,
 "nbformat_minor": 0,
 "worksheets": []
}