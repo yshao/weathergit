{
 "metadata": {
  "name": "",
  "signature": "sha256:bf79a9078fa71c49876b999abcf3180c8dc3ab907693e5d3c703d42f12ad675a"
 },
 "nbformat": 3,
 "nbformat_minor": 0,
 "worksheets": [
  {
   "cells": [
    {
     "cell_type": "code",
     "collapsed": false,
     "input": [
      "1+1"
     ],
     "language": "python",
     "metadata": {},
     "outputs": [
      {
       "metadata": {},
       "output_type": "pyout",
       "prompt_number": 1,
       "text": [
        "2"
       ]
      }
     ],
     "prompt_number": 1
    },
    {
     "cell_type": "code",
     "collapsed": false,
     "input": [
      "from smaputils import SmapUtils\n",
      "\n",
      "c=SmapUtils()\n",
      "\n",
      "readings=c.get_curr_values(('soil_temp','soil_moisture',))\n",
      "\n"
     ],
     "language": "python",
     "metadata": {},
     "outputs": []
    }
   ],
   "metadata": {}
  }
 ]
}